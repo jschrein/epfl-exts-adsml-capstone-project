{
 "cells": [
  {
   "cell_type": "code",
   "execution_count": 1,
   "metadata": {},
   "outputs": [],
   "source": [
    "import pandas as pd\n",
    "import numpy as np\n",
    "import os\n",
    "import matplotlib.pyplot as plt\n",
    "import seaborn as sns\n",
    "\n",
    "from sklearn.model_selection import train_test_split, GridSearchCV\n",
    "from sklearn.ensemble import GradientBoostingRegressor\n",
    "from sklearn.metrics import mean_absolute_error, r2_score"
   ]
  },
  {
   "cell_type": "code",
   "execution_count": 2,
   "metadata": {},
   "outputs": [],
   "source": [
    "df = pd.read_csv(os.path.join(\"data\", \"processed\", \"all_data2.csv\"))\n",
    "df.set_index(\"commune_id\", inplace=True)\n",
    "df.drop(columns=[\"name\"], inplace=True)\n",
    "vote_share_cols = [col for col in df.columns if col.startswith(\"vote_share_\")]\n",
    "df.drop(columns=vote_share_cols, inplace=True)"
   ]
  },
  {
   "cell_type": "code",
   "execution_count": 3,
   "metadata": {},
   "outputs": [
    {
     "name": "stdout",
     "output_type": "stream",
     "text": [
      "X_train.shape = (1756, 90)\n",
      "y_train.shape = (1756,)\n",
      "X_test.shape = (440, 90)\n",
      "y_test.shape = (440,)\n"
     ]
    }
   ],
   "source": [
    "df_typo = df[\"typology\"] # needed for stratification below\n",
    "df = pd.get_dummies(df, columns=[\"language\", \"canton\", \"typology\"])\n",
    "\n",
    "df_train, df_test = train_test_split(df, test_size=0.2, random_state=0, stratify=df_typo)\n",
    "X_train = df_train.drop(columns=\"po_value\").values\n",
    "y_train = df_train[\"po_value\"].values\n",
    "X_test = df_test.drop(columns=\"po_value\").values\n",
    "y_test = df_test[\"po_value\"].values\n",
    "\n",
    "print(\"X_train.shape = {}\".format(X_train.shape))\n",
    "print(\"y_train.shape = {}\".format(y_train.shape))\n",
    "print(\"X_test.shape = {}\".format(X_test.shape))\n",
    "print(\"y_test.shape = {}\".format(y_test.shape))"
   ]
  },
  {
   "cell_type": "code",
   "execution_count": 4,
   "metadata": {},
   "outputs": [
    {
     "name": "stdout",
     "output_type": "stream",
     "text": [
      "GradientBoostingRegressor(alpha=0.9, criterion='friedman_mse', init=None,\n",
      "             learning_rate=0.1, loss='ls', max_depth=3, max_features=None,\n",
      "             max_leaf_nodes=None, min_impurity_decrease=0.0,\n",
      "             min_impurity_split=None, min_samples_leaf=1,\n",
      "             min_samples_split=2, min_weight_fraction_leaf=0.0,\n",
      "             n_estimators=100, n_iter_no_change=None, presort='auto',\n",
      "             random_state=0, subsample=1.0, tol=0.0001,\n",
      "             validation_fraction=0.1, verbose=0, warm_start=False)\n",
      "With default params:\n",
      "GTBR MAE = 0.156\n",
      "GTBR R^2 = 0.744\n"
     ]
    }
   ],
   "source": [
    "gtbr = GradientBoostingRegressor(random_state=0)\n",
    "print(gtbr.fit(X_train, y_train))\n",
    "gtbr_test_pred = gtbr.predict(X_test)\n",
    "print(\"With default params:\")\n",
    "print(\"GTBR MAE = {:.3f}\".format(mean_absolute_error(y_test, gtbr_test_pred)))\n",
    "print(\"GTBR R^2 = {:.3f}\".format(gtbr.score(X_test, y_test)))"
   ]
  },
  {
   "cell_type": "code",
   "execution_count": 5,
   "metadata": {},
   "outputs": [
    {
     "name": "stdout",
     "output_type": "stream",
     "text": [
      "Grid search / cross-validation:\n",
      "Best params = {'learning_rate': 0.09, 'n_estimators': 500}\n",
      "Best MAE = 0.153\n"
     ]
    }
   ],
   "source": [
    "parameters = {\n",
    "    \"learning_rate\": [0.08, 0.09, 0.1, 0.11, 0.12 ],\n",
    "    \"n_estimators\": np.linspace(100, 800, 8, dtype=int)\n",
    "}\n",
    "gcv = GridSearchCV(gtbr, parameters, scoring = \"neg_mean_absolute_error\", cv = 5, iid = False, n_jobs=12, return_train_score=True)\n",
    "gcv.fit(X_train, y_train)\n",
    "print(\"Grid search / cross-validation:\")\n",
    "print(\"Best params = {}\".format(gcv.best_params_))\n",
    "print(\"Best MAE = {:.3f}\".format(-gcv.best_score_))"
   ]
  },
  {
   "cell_type": "code",
   "execution_count": 6,
   "metadata": {},
   "outputs": [
    {
     "name": "stdout",
     "output_type": "stream",
     "text": [
      "On test data:\n",
      "Tuned GTBR MAE = 0.149\n",
      "Tuned GTBR R^2 = 0.764\n"
     ]
    }
   ],
   "source": [
    "gcv_test_pred = gcv.predict(X_test)\n",
    "print(\"On test data:\")\n",
    "print(\"Tuned GTBR MAE = {:.3f}\".format(mean_absolute_error(y_test, gcv_test_pred)))\n",
    "print(\"Tuned GTBR R^2 = {:.3f}\".format(r2_score(y_test, gcv_test_pred)))"
   ]
  },
  {
   "cell_type": "code",
   "execution_count": 7,
   "metadata": {},
   "outputs": [
    {
     "data": {
      "text/html": [
       "<div>\n",
       "<style scoped>\n",
       "    .dataframe tbody tr th:only-of-type {\n",
       "        vertical-align: middle;\n",
       "    }\n",
       "\n",
       "    .dataframe tbody tr th {\n",
       "        vertical-align: top;\n",
       "    }\n",
       "\n",
       "    .dataframe thead th {\n",
       "        text-align: right;\n",
       "    }\n",
       "</style>\n",
       "<table border=\"1\" class=\"dataframe\">\n",
       "  <thead>\n",
       "    <tr style=\"text-align: right;\">\n",
       "      <th></th>\n",
       "      <th>rank_test_score</th>\n",
       "      <th>mean_train_score</th>\n",
       "      <th>std_train_score</th>\n",
       "      <th>mean_test_score</th>\n",
       "      <th>std_test_score</th>\n",
       "      <th>param_learning_rate</th>\n",
       "      <th>param_n_estimators</th>\n",
       "    </tr>\n",
       "  </thead>\n",
       "  <tbody>\n",
       "    <tr>\n",
       "      <th>12</th>\n",
       "      <td>1</td>\n",
       "      <td>-0.052103</td>\n",
       "      <td>0.001555</td>\n",
       "      <td>-0.153314</td>\n",
       "      <td>0.004638</td>\n",
       "      <td>0.09</td>\n",
       "      <td>500</td>\n",
       "    </tr>\n",
       "    <tr>\n",
       "      <th>7</th>\n",
       "      <td>2</td>\n",
       "      <td>-0.035742</td>\n",
       "      <td>0.000626</td>\n",
       "      <td>-0.153415</td>\n",
       "      <td>0.005839</td>\n",
       "      <td>0.08</td>\n",
       "      <td>800</td>\n",
       "    </tr>\n",
       "    <tr>\n",
       "      <th>6</th>\n",
       "      <td>3</td>\n",
       "      <td>-0.041691</td>\n",
       "      <td>0.000596</td>\n",
       "      <td>-0.153434</td>\n",
       "      <td>0.005527</td>\n",
       "      <td>0.08</td>\n",
       "      <td>700</td>\n",
       "    </tr>\n",
       "    <tr>\n",
       "      <th>5</th>\n",
       "      <td>4</td>\n",
       "      <td>-0.048757</td>\n",
       "      <td>0.000414</td>\n",
       "      <td>-0.153632</td>\n",
       "      <td>0.005329</td>\n",
       "      <td>0.08</td>\n",
       "      <td>600</td>\n",
       "    </tr>\n",
       "    <tr>\n",
       "      <th>13</th>\n",
       "      <td>5</td>\n",
       "      <td>-0.043525</td>\n",
       "      <td>0.001489</td>\n",
       "      <td>-0.153656</td>\n",
       "      <td>0.004816</td>\n",
       "      <td>0.09</td>\n",
       "      <td>600</td>\n",
       "    </tr>\n",
       "  </tbody>\n",
       "</table>\n",
       "</div>"
      ],
      "text/plain": [
       "    rank_test_score  mean_train_score  std_train_score  mean_test_score  \\\n",
       "12                1         -0.052103         0.001555        -0.153314   \n",
       "7                 2         -0.035742         0.000626        -0.153415   \n",
       "6                 3         -0.041691         0.000596        -0.153434   \n",
       "5                 4         -0.048757         0.000414        -0.153632   \n",
       "13                5         -0.043525         0.001489        -0.153656   \n",
       "\n",
       "    std_test_score param_learning_rate param_n_estimators  \n",
       "12        0.004638                0.09                500  \n",
       "7         0.005839                0.08                800  \n",
       "6         0.005527                0.08                700  \n",
       "5         0.005329                0.08                600  \n",
       "13        0.004816                0.09                600  "
      ]
     },
     "execution_count": 7,
     "metadata": {},
     "output_type": "execute_result"
    }
   ],
   "source": [
    "df_gcv = pd.DataFrame(gcv.cv_results_)[['rank_test_score', 'mean_train_score', 'std_train_score', 'mean_test_score',\n",
    "                                         'std_test_score', 'param_learning_rate', 'param_n_estimators']].sort_values(by='rank_test_score')\n",
    "df_gcv.head()"
   ]
  },
  {
   "cell_type": "code",
   "execution_count": 8,
   "metadata": {},
   "outputs": [
    {
     "name": "stdout",
     "output_type": "stream",
     "text": [
      "Grid search / cross-validation:\n",
      "Best params = {'learning_rate': 0.09, 'max_depth': 4, 'min_samples_split': 10, 'n_estimators': 500}\n",
      "Best MAE = 0.152\n"
     ]
    }
   ],
   "source": [
    "parameters2 = {\n",
    "    \"learning_rate\": [0.09],\n",
    "    \"n_estimators\": [500],\n",
    "    \"max_depth\": np.linspace(1, 10, 10, dtype=int),\n",
    "    \"min_samples_split\": np.linspace(2, 10, 10, dtype=int)\n",
    "}\n",
    "gcv2= GridSearchCV(gtbr, parameters2, scoring = \"neg_mean_absolute_error\", cv = 5, iid = False, n_jobs=12, return_train_score=True)\n",
    "gcv2.fit(X_train, y_train)\n",
    "print(\"Grid search / cross-validation:\")\n",
    "print(\"Best params = {}\".format(gcv2.best_params_))\n",
    "print(\"Best MAE = {:.3f}\".format(-gcv2.best_score_))"
   ]
  },
  {
   "cell_type": "code",
   "execution_count": 9,
   "metadata": {},
   "outputs": [
    {
     "name": "stdout",
     "output_type": "stream",
     "text": [
      "On test data:\n",
      "Tuned GTBR MAE = 0.150\n",
      "Tuned GTBR R^2 = 0.765\n"
     ]
    }
   ],
   "source": [
    "gcv2_test_pred = gcv2.predict(X_test)\n",
    "print(\"On test data:\")\n",
    "print(\"Tuned GTBR MAE = {:.3f}\".format(mean_absolute_error(y_test, gcv2_test_pred)))\n",
    "print(\"Tuned GTBR R^2 = {:.3f}\".format(r2_score(y_test, gcv2_test_pred)))"
   ]
  },
  {
   "cell_type": "code",
   "execution_count": 26,
   "metadata": {},
   "outputs": [
    {
     "data": {
      "text/html": [
       "<div>\n",
       "<style scoped>\n",
       "    .dataframe tbody tr th:only-of-type {\n",
       "        vertical-align: middle;\n",
       "    }\n",
       "\n",
       "    .dataframe tbody tr th {\n",
       "        vertical-align: top;\n",
       "    }\n",
       "\n",
       "    .dataframe thead th {\n",
       "        text-align: right;\n",
       "    }\n",
       "</style>\n",
       "<table border=\"1\" class=\"dataframe\">\n",
       "  <thead>\n",
       "    <tr style=\"text-align: right;\">\n",
       "      <th></th>\n",
       "      <th>rank_test_score</th>\n",
       "      <th>mean_train_score</th>\n",
       "      <th>std_train_score</th>\n",
       "      <th>mean_test_score</th>\n",
       "      <th>std_test_score</th>\n",
       "      <th>param_learning_rate</th>\n",
       "      <th>param_n_estimators</th>\n",
       "      <th>param_max_depth</th>\n",
       "      <th>param_min_samples_split</th>\n",
       "    </tr>\n",
       "  </thead>\n",
       "  <tbody>\n",
       "    <tr>\n",
       "      <th>39</th>\n",
       "      <td>1</td>\n",
       "      <td>-0.022553</td>\n",
       "      <td>0.000230</td>\n",
       "      <td>-0.152450</td>\n",
       "      <td>0.004503</td>\n",
       "      <td>0.09</td>\n",
       "      <td>500</td>\n",
       "      <td>4</td>\n",
       "      <td>10</td>\n",
       "    </tr>\n",
       "    <tr>\n",
       "      <th>34</th>\n",
       "      <td>2</td>\n",
       "      <td>-0.021527</td>\n",
       "      <td>0.000503</td>\n",
       "      <td>-0.152466</td>\n",
       "      <td>0.003919</td>\n",
       "      <td>0.09</td>\n",
       "      <td>500</td>\n",
       "      <td>4</td>\n",
       "      <td>5</td>\n",
       "    </tr>\n",
       "    <tr>\n",
       "      <th>33</th>\n",
       "      <td>3</td>\n",
       "      <td>-0.021197</td>\n",
       "      <td>0.000632</td>\n",
       "      <td>-0.153177</td>\n",
       "      <td>0.004334</td>\n",
       "      <td>0.09</td>\n",
       "      <td>500</td>\n",
       "      <td>4</td>\n",
       "      <td>4</td>\n",
       "    </tr>\n",
       "    <tr>\n",
       "      <th>37</th>\n",
       "      <td>4</td>\n",
       "      <td>-0.021649</td>\n",
       "      <td>0.000449</td>\n",
       "      <td>-0.153291</td>\n",
       "      <td>0.005270</td>\n",
       "      <td>0.09</td>\n",
       "      <td>500</td>\n",
       "      <td>4</td>\n",
       "      <td>8</td>\n",
       "    </tr>\n",
       "    <tr>\n",
       "      <th>20</th>\n",
       "      <td>5</td>\n",
       "      <td>-0.052103</td>\n",
       "      <td>0.001555</td>\n",
       "      <td>-0.153314</td>\n",
       "      <td>0.004638</td>\n",
       "      <td>0.09</td>\n",
       "      <td>500</td>\n",
       "      <td>3</td>\n",
       "      <td>2</td>\n",
       "    </tr>\n",
       "  </tbody>\n",
       "</table>\n",
       "</div>"
      ],
      "text/plain": [
       "    rank_test_score  mean_train_score  std_train_score  mean_test_score  \\\n",
       "39                1         -0.022553         0.000230        -0.152450   \n",
       "34                2         -0.021527         0.000503        -0.152466   \n",
       "33                3         -0.021197         0.000632        -0.153177   \n",
       "37                4         -0.021649         0.000449        -0.153291   \n",
       "20                5         -0.052103         0.001555        -0.153314   \n",
       "\n",
       "    std_test_score param_learning_rate param_n_estimators param_max_depth  \\\n",
       "39        0.004503                0.09                500               4   \n",
       "34        0.003919                0.09                500               4   \n",
       "33        0.004334                0.09                500               4   \n",
       "37        0.005270                0.09                500               4   \n",
       "20        0.004638                0.09                500               3   \n",
       "\n",
       "   param_min_samples_split  \n",
       "39                      10  \n",
       "34                       5  \n",
       "33                       4  \n",
       "37                       8  \n",
       "20                       2  "
      ]
     },
     "execution_count": 26,
     "metadata": {},
     "output_type": "execute_result"
    }
   ],
   "source": [
    "df_gcv2 = pd.DataFrame(gcv2.cv_results_)[['rank_test_score', 'mean_train_score', 'std_train_score', 'mean_test_score',\n",
    "                                         'std_test_score', 'param_learning_rate', 'param_n_estimators', 'param_max_depth',\n",
    "                                         'param_min_samples_split']].sort_values(by='rank_test_score')\n",
    "df_gcv2.head(5)"
   ]
  },
  {
   "cell_type": "code",
   "execution_count": 15,
   "metadata": {},
   "outputs": [
    {
     "data": {
      "image/png": "[encoded data removed]",
      "text/plain": [
       "<Figure size 432x288 with 1 Axes>"
      ]
     },
     "metadata": {},
     "output_type": "display_data"
    }
   ],
   "source": [
    "sns.set_style('whitegrid')\n",
    "ax = sns.scatterplot(y_test, gcv2_test_pred, s=10)\n",
    "ax.set_xlabel(\"real po\")\n",
    "ax.set_ylabel(\"predicted po\")\n",
    "ax.set_title(\"Real vs. predicted po (test set)\")\n",
    "ax.plot([-1, 2], [-1, 2], color=\"red\", linestyle=\":\")\n",
    "plt.show()"
   ]
  },
  {
   "cell_type": "code",
   "execution_count": 27,
   "metadata": {},
   "outputs": [],
   "source": [
    "sns.set_style('whitegrid')\n",
    "def validationcurve_plot(title, param_range, train_scores_mean, train_scores_std, valid_scores_mean, valid_scores_std, ax):\n",
    "    \"\"\"Plots a validation curve and marks the best test score.\"\"\"\n",
    "\n",
    "    sns.lineplot(param_range, train_scores_mean, label=\"train\", ax=ax)\n",
    "    ax.fill_between(param_range, train_scores_mean - train_scores_std, train_scores_mean + train_scores_std, alpha=0.2)\n",
    "\n",
    "    sns.lineplot(param_range, valid_scores_mean, label=\"validation\", ax=ax)\n",
    "    ax.fill_between(param_range, valid_scores_mean - valid_scores_std, valid_scores_mean + valid_scores_std, alpha=0.2)\n",
    "\n",
    "    ax.set_title(title)\n",
    "    ax.set_xlabel(\"n_estimators\")\n",
    "\n",
    "    best_idx = valid_scores_mean.values.argmin()\n",
    "    ax.scatter(param_range[best_idx], valid_scores_mean[best_idx], marker='x', c='red', zorder=10, label=\"best\")\n",
    "\n",
    "    ax.legend()"
   ]
  },
  {
   "cell_type": "code",
   "execution_count": 16,
   "metadata": {},
   "outputs": [],
   "source": [
    "# this is just for the charts\n",
    "param_range = np.append(np.linspace(10, 90, 9, dtype=int), np.linspace(100, 800, 8, dtype=int))\n",
    "parameters3 = { \"learning_rate\": [0.09], \"n_estimators\": param_range, \"max_depth\": [4], \"min_samples_split\": [10] }\n",
    "gcv3 = GridSearchCV(GradientBoostingRegressor(random_state=0), parameters3, scoring = \"neg_mean_absolute_error\",\n",
    "                   cv = 5, iid = False, n_jobs=12, return_train_score=True)\n",
    "gcv3.fit(X_train, y_train)\n",
    "df_gcv3 = pd.DataFrame(gcv3.cv_results_)\n",
    "\n",
    "parameters4 = { \"learning_rate\": [0.12], \"n_estimators\": param_range, \"max_depth\": [4], \"min_samples_split\": [10] }\n",
    "gcv4 = GridSearchCV(GradientBoostingRegressor(random_state=0), parameters4, scoring = \"neg_mean_absolute_error\",\n",
    "                   cv = 5, iid = False, n_jobs=12, return_train_score=True)\n",
    "gcv4.fit(X_train, y_train)\n",
    "df_gcv4 = pd.DataFrame(gcv4.cv_results_)"
   ]
  },
  {
   "cell_type": "code",
   "execution_count": 28,
   "metadata": {},
   "outputs": [
    {
     "data": {
      "image/png": "[encoded data removed]",
      "text/plain": [
       "<Figure size 900x360 with 2 Axes>"
      ]
     },
     "metadata": {},
     "output_type": "display_data"
    }
   ],
   "source": [
    "fig, (ax1, ax2) = plt.subplots(1, 2, figsize=(12.5, 5), sharey=True)\n",
    "validationcurve_plot(\"learning_rate = 0.09\", param_range, -df_gcv3[\"mean_train_score\"], -df_gcv3[\"std_train_score\"],\n",
    "                     -df_gcv3[\"mean_test_score\"], -df_gcv3[\"std_test_score\"], ax=ax1)\n",
    "validationcurve_plot(\"learning_rate = 0.12\", param_range, -df_gcv4[\"mean_train_score\"], -df_gcv4[\"std_train_score\"],\n",
    "                     -df_gcv4[\"mean_test_score\"], -df_gcv4[\"std_test_score\"], ax=ax2)"
   ]
  },
  {
   "cell_type": "code",
   "execution_count": 24,
   "metadata": {},
   "outputs": [
    {
     "name": "stdout",
     "output_type": "stream",
     "text": [
      "learning rate = 0.09, MAE=0.152\n",
      "learning rate = 0.12, MAE=0.151\n"
     ]
    }
   ],
   "source": [
    "print(\"learning rate = 0.09, MAE={:.3f}\".format(-gcv3.score(X_test, y_test)))\n",
    "print(\"learning rate = 0.12, MAE={:.3f}\".format(-gcv4.score(X_test, y_test)))"
   ]
  }
 ],
 "metadata": {
  "kernelspec": {
   "display_name": "Python 3",
   "language": "python",
   "name": "python3"
  },
  "language_info": {
   "codemirror_mode": {
    "name": "ipython",
    "version": 3
   },
   "file_extension": ".py",
   "mimetype": "text/x-python",
   "name": "python",
   "nbconvert_exporter": "python",
   "pygments_lexer": "ipython3",
   "version": "3.6.10"
  }
 },
 "nbformat": 4,
 "nbformat_minor": 4
}
