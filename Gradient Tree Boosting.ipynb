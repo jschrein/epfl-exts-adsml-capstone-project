{
 "cells": [
  {
   "cell_type": "code",
   "execution_count": 1,
   "metadata": {},
   "outputs": [],
   "source": [
    "import pandas as pd\n",
    "import numpy as np\n",
    "import os\n",
    "import matplotlib.pyplot as plt\n",
    "import seaborn as sns\n",
    "\n",
    "from sklearn.model_selection import train_test_split, GridSearchCV\n",
    "from sklearn.ensemble import GradientBoostingRegressor\n",
    "from sklearn.metrics import mean_absolute_error, r2_score"
   ]
  },
  {
   "cell_type": "code",
   "execution_count": 2,
   "metadata": {},
   "outputs": [],
   "source": [
    "df = pd.read_csv(os.path.join(\"data\", \"processed\", \"all_data2.csv\"))\n",
    "df.set_index(\"commune_id\", inplace=True)\n",
    "df.drop(columns=[\"name\"], inplace=True)\n",
    "vote_share_cols = [col for col in df.columns if col.startswith(\"vote_share_\")]\n",
    "df.drop(columns=vote_share_cols, inplace=True)"
   ]
  },
  {
   "cell_type": "code",
   "execution_count": 3,
   "metadata": {},
   "outputs": [
    {
     "name": "stdout",
     "output_type": "stream",
     "text": [
      "X_train.shape = (1756, 90)\n",
      "y_train.shape = (1756,)\n",
      "X_test.shape = (440, 90)\n",
      "y_test.shape = (440,)\n"
     ]
    }
   ],
   "source": [
    "df_typo = df[\"typology\"] # needed for stratification below\n",
    "df = pd.get_dummies(df, columns=[\"language\", \"canton\", \"typology\"])\n",
    "\n",
    "df_train, df_test = train_test_split(df, test_size=0.2, random_state=0, stratify=df_typo)\n",
    "X_train = df_train.drop(columns=\"po_value\").values\n",
    "y_train = df_train[\"po_value\"].values\n",
    "X_test = df_test.drop(columns=\"po_value\").values\n",
    "y_test = df_test[\"po_value\"].values\n",
    "\n",
    "print(\"X_train.shape = {}\".format(X_train.shape))\n",
    "print(\"y_train.shape = {}\".format(y_train.shape))\n",
    "print(\"X_test.shape = {}\".format(X_test.shape))\n",
    "print(\"y_test.shape = {}\".format(y_test.shape))"
   ]
  },
  {
   "cell_type": "code",
   "execution_count": 4,
   "metadata": {},
   "outputs": [
    {
     "name": "stdout",
     "output_type": "stream",
     "text": [
      "GradientBoostingRegressor(alpha=0.9, criterion='friedman_mse', init=None,\n",
      "             learning_rate=0.1, loss='ls', max_depth=3, max_features=None,\n",
      "             max_leaf_nodes=None, min_impurity_decrease=0.0,\n",
      "             min_impurity_split=None, min_samples_leaf=1,\n",
      "             min_samples_split=2, min_weight_fraction_leaf=0.0,\n",
      "             n_estimators=100, n_iter_no_change=None, presort='auto',\n",
      "             random_state=0, subsample=1.0, tol=0.0001,\n",
      "             validation_fraction=0.1, verbose=0, warm_start=False)\n",
      "With default params:\n",
      "GTBR MAE = 0.156\n",
      "GTBR R^2 = 0.744\n"
     ]
    }
   ],
   "source": [
    "gtbr = GradientBoostingRegressor(random_state=0)\n",
    "print(gtbr.fit(X_train, y_train))\n",
    "gtbr_test_pred = gtbr.predict(X_test)\n",
    "print(\"With default params:\")\n",
    "print(\"GTBR MAE = {:.3f}\".format(mean_absolute_error(y_test, gtbr_test_pred)))\n",
    "print(\"GTBR R^2 = {:.3f}\".format(gtbr.score(X_test, y_test)))"
   ]
  },
  {
   "cell_type": "code",
   "execution_count": 5,
   "metadata": {},
   "outputs": [
    {
     "name": "stdout",
     "output_type": "stream",
     "text": [
      "Grid search / cross-validation:\n",
      "Best params = {'learning_rate': 0.09, 'n_estimators': 500}\n",
      "Best MAE = 0.153\n"
     ]
    }
   ],
   "source": [
    "parameters = {\n",
    "    \"learning_rate\": [0.08, 0.09, 0.1, 0.11, 0.12 ],\n",
    "    \"n_estimators\": np.linspace(100, 800, 8, dtype=int)\n",
    "}\n",
    "gcv = GridSearchCV(gtbr, parameters, scoring = \"neg_mean_absolute_error\", cv = 5, iid = False, n_jobs=12)\n",
    "gcv.fit(X_train, y_train)\n",
    "print(\"Grid search / cross-validation:\")\n",
    "print(\"Best params = {}\".format(gcv.best_params_))\n",
    "print(\"Best MAE = {:.3f}\".format(-gcv.best_score_))"
   ]
  },
  {
   "cell_type": "code",
   "execution_count": 6,
   "metadata": {},
   "outputs": [
    {
     "name": "stdout",
     "output_type": "stream",
     "text": [
      "On test data:\n",
      "Tuned GTBR MAE = 0.149\n",
      "Tuned GTBR R^2 = 0.764\n"
     ]
    }
   ],
   "source": [
    "gcv_test_pred = gcv.predict(X_test)\n",
    "print(\"On test data:\")\n",
    "print(\"Tuned GTBR MAE = {:.3f}\".format(mean_absolute_error(y_test, gcv_test_pred)))\n",
    "print(\"Tuned GTBR R^2 = {:.3f}\".format(r2_score(y_test, gcv_test_pred)))"
   ]
  },
  {
   "cell_type": "code",
   "execution_count": 7,
   "metadata": {},
   "outputs": [
    {
     "name": "stdout",
     "output_type": "stream",
     "text": [
      "Grid search / cross-validation:\n",
      "Best params = {'learning_rate': 0.09, 'max_depth': 4, 'min_samples_split': 10, 'n_estimators': 500}\n",
      "Best MAE = 0.152\n"
     ]
    }
   ],
   "source": [
    "parameters2 = {\n",
    "    \"learning_rate\": [0.09],\n",
    "    \"n_estimators\": [500],\n",
    "    \"max_depth\": np.linspace(1, 10, 10, dtype=int),\n",
    "    \"min_samples_split\": np.linspace(2, 10, 10, dtype=int)\n",
    "}\n",
    "gcv2= GridSearchCV(gtbr, parameters2, scoring = \"neg_mean_absolute_error\", cv = 5, iid = False, n_jobs=12)\n",
    "gcv2.fit(X_train, y_train)\n",
    "print(\"Grid search / cross-validation:\")\n",
    "print(\"Best params = {}\".format(gcv2.best_params_))\n",
    "print(\"Best MAE = {:.3f}\".format(-gcv2.best_score_))"
   ]
  },
  {
   "cell_type": "code",
   "execution_count": 8,
   "metadata": {},
   "outputs": [
    {
     "name": "stdout",
     "output_type": "stream",
     "text": [
      "On test data:\n",
      "Tuned GTBR MAE = 0.150\n",
      "Tuned GTBR R^2 = 0.765\n"
     ]
    }
   ],
   "source": [
    "gcv2_test_pred = gcv2.predict(X_test)\n",
    "print(\"On test data:\")\n",
    "print(\"Tuned GTBR MAE = {:.3f}\".format(mean_absolute_error(y_test, gcv2_test_pred)))\n",
    "print(\"Tuned GTBR R^2 = {:.3f}\".format(r2_score(y_test, gcv2_test_pred)))"
   ]
  },
  {
   "cell_type": "code",
   "execution_count": 9,
   "metadata": {},
   "outputs": [
    {
     "data": {
      "image/png": "[encoded data removed]",
      "text/plain": [
       "<Figure size 432x288 with 1 Axes>"
      ]
     },
     "metadata": {
      "needs_background": "light"
     },
     "output_type": "display_data"
    }
   ],
   "source": [
    "ax = sns.scatterplot(y_test, gcv2_test_pred, s=10)\n",
    "ax.set_xlabel(\"real po\")\n",
    "ax.set_ylabel(\"predicted po\")\n",
    "ax.set_title(\"Real vs. predicted po (test set)\")\n",
    "ax.plot([-1, 2], [-1, 2], color=\"red\", linestyle=\":\")\n",
    "plt.show()"
   ]
  },
  {
   "cell_type": "code",
   "execution_count": null,
   "metadata": {},
   "outputs": [],
   "source": []
  }
 ],
 "metadata": {
  "kernelspec": {
   "display_name": "Python 3",
   "language": "python",
   "name": "python3"
  },
  "language_info": {
   "codemirror_mode": {
    "name": "ipython",
    "version": 3
   },
   "file_extension": ".py",
   "mimetype": "text/x-python",
   "name": "python",
   "nbconvert_exporter": "python",
   "pygments_lexer": "ipython3",
   "version": "3.6.10"
  }
 },
 "nbformat": 4,
 "nbformat_minor": 4
}
