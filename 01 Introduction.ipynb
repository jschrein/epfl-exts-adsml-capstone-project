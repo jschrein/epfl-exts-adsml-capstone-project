{
 "cells": [
  {
   "cell_type": "markdown",
   "metadata": {
    "toc-hr-collapsed": false
   },
   "source": [
    "# Capstone project by Jörg Schreiner"
   ]
  },
  {
   "cell_type": "markdown",
   "metadata": {
    "toc-hr-collapsed": false
   },
   "source": [
    "# Political orientation of Swiss communes from a data science perspective"
   ]
  },
  {
   "cell_type": "markdown",
   "metadata": {
    "toc-hr-collapsed": false
   },
   "source": [
    "## Introduction"
   ]
  },
  {
   "cell_type": "markdown",
   "metadata": {},
   "source": [
    "### Problem description"
   ]
  },
  {
   "cell_type": "markdown",
   "metadata": {},
   "source": [
    "Using the detailed data that is available \n",
    "- about the 2'202 __Swiss communes__\n",
    "- from sources like the __Federal Statistical Office__, the __Federal Tax Administration__, the __Federal Office of Public Health__, or the __State Secretariat for Economic Affairs__, supplemented with less conventional data providers like __Swiss Federal Railways__ or __geographical data__\n",
    "\n",
    "in this project I will\n",
    "- use machine learning models to predict the __political orientation__ of the municipalities as expressed in the 2019 federal elections (\"Nationalratswahlen\")\n",
    "- identify __significant factors__ that influence the political orientation\n",
    "- and __compare__ a linear regression model __with two other non-linear regression models__ (gradient tree boosting and support vector regression)\n",
    "\n",
    "The dependent variable, political orientation, in the context of this project will be a single number that summarizes how far left-leaning or right-leaning a municipality has voted. This will be computed by assigning each party a left/right value and then getting the sum of party values weighted by election results.\n",
    "\n",
    "Example:\n",
    "\n",
    "Given these party left/right values\n",
    "\n",
    "| -2 | -1 | 0 | +1 | +2 |\n",
    "|---|---|---|---|---|\n",
    "|GPS|SP |CVP|FDP|SVP|\n",
    "|PdA| -  |GLP|BDP|RW*|\n",
    "| - | -  |EVP| - | - |\n",
    "\n",
    "and these election results\n",
    "\n",
    "&nbsp; |**GPS**|**SP**|**GLP**|**CVP**|**FDP**|**SVP**\n",
    ":-----:|:-----:|:-----:|:-----:|:-----:|:-----:|:-----:\n",
    "Lausanne|27%|27%|7%|2%|15%|9%\n",
    "Schwyz|3%|18%|3%|25%|20%|30%\n",
    "\n",
    "the political-orientation value is **-0.55 for Lausanne** and **+0.57 for Schwyz**. So Lausanne leans to the left politically and Schwyz to the right. Intuitively that is not surprising. The aim of the capstone project is to quantify it and find out what leads to that (social, economic, geographic, ... factors).\n",
    "\n",
    "Please consult the notebook [Political Parties in CH](./01b%20Political%20Parties%20in%20CH.ipynb) for a more detailed description of the parties, the political spectrum and the formula for the political orientation value."
   ]
  },
  {
   "cell_type": "markdown",
   "metadata": {
    "toc-hr-collapsed": false
   },
   "source": [
    "### Overview of the data"
   ]
  },
  {
   "cell_type": "markdown",
   "metadata": {},
   "source": [
    "The data that I will be using for the project is a combination of 11 data files. You can find the list below, together with links to the sources and a description of the contained variables.\n",
    "\n",
    "At the center of the data files is the regional portraits file. It contains 31 variables about each of the 2'202 Swiss communes (as of 01.01.2020). It also contains the voter shares of 10 political parties in the 2019 federal elections (which we use to calculate the target variable). Each commune has a unique commune id, which is also contained in most other data files. That means I don't have to rely on commune names to join the files (which would be error-prone). In some files, the reference area is not communes, but regions (aka. districts, there are 143 of them) or cantons (there are 26 of them). For these files, the link to the commune can be made because the region and canton of each commune is known from the commune directory.\n",
    "\n",
    "You can find all files in the data/source subfolder."
   ]
  },
  {
   "cell_type": "markdown",
   "metadata": {},
   "source": [
    "### Data sets\n",
    "\n",
    "**Data Set**|**Source**|**Ref. Area**|**Num. Variables**|**File**|**URL**\n",
    "-----|-----|-----|-----:|-----|-----\n",
    "Regional Portraits|FSO|Commune|31|je-e-21.03.01.xlsx|https://www.bfs.admin.ch/bfs/de/home/statistiken/kataloge-datenbanken.assetdetail.11587760.html\n",
    "Languages|FSO|Commune|1|20584_131.xlsx|https://www.atlas.bfs.admin.ch/maps/13/de/12474_3175_235_227/20584.html\n",
    "Religion|FSO|Canton|4|24071_131.xlsx|https://www.atlas.bfs.admin.ch/maps/13/de/15297_3522_107_70/24071.html\n",
    "Health Insurance|FOPH|Sub-Canton|4|praemienregionen-version-maerz-2020|https://www.bag.admin.ch/bag/en/home/versicherungen/krankenversicherung/krankenversicherung-versicherer-aufsicht/praemienregionen.html\n",
    "Taxable Income|FTA|Commune|1|23875_131.xlsx|https://www.atlas.bfs.admin.ch/maps/13/de/15132_9164_9202_7267/23875.html\n",
    "Unemployment|SECO|Canton|1|23868_131.xlsx|https://www.atlas.bfs.admin.ch/maps/13/de/15135_128_127_119/23868.html\n",
    "Crime Rate|FSO|District|1|24033_131.xlsx|https://www.atlas.bfs.admin.ch/maps/13/de/15275_3862_11461_7266/24033.html\n",
    "Spatial Typology|FSO|Commune|1|20593_131.xlsx|https://www.atlas.bfs.admin.ch/maps/13/de/12360_12482_3191_227/20593.html\n",
    "Ticket Vending Machines|SBB|Commune|1|billetautomat.csv|https://data.sbb.ch/explore/dataset/billetautomat/information/\n",
    "Geo Location|FSO|Commune|2|be-b-00.03-gg20.xlsx|https://www.bfs.admin.ch/bfs/en/home/services/geostat/swiss-federal-statistics-geodata/administrative-boundaries/generalized-boundaries-local-regional-authorities.assetdetail.14776427.html\n",
    "Commune Directory | FSO | Commune |-| be-b-00.04-agv-01.xlsx | https://www.bfs.admin.ch/bfs/de/home/grundlagen/agvch.assetdetail.14709198.html"
   ]
  },
  {
   "cell_type": "markdown",
   "metadata": {},
   "source": [
    "### Data set variables\n",
    "<a class=\"anchor\" id=\"data-set-variables\"></a>\n",
    "\n",
    "**Data Set**|**Variables**\n",
    "-----|-----\n",
    "Regional Portraits|Population: residents, change, density, foreigners\n",
    "&nbsp;|Age distribution, 0-19y, 20-64y, 65+y\n",
    "&nbsp;|Birth, mortality, marriage, divorce\n",
    "&nbsp;|Households, number and size\n",
    "&nbsp;|Area: total, settlements, agricultural, wooded, unproductive, with changes\n",
    "&nbsp;|Economy: employees, businesses, primary, secondary, tertiary sectors\n",
    "&nbsp;|Housing: dwelling vacancy, new housing\n",
    "&nbsp;|Social assistance rate\n",
    "&nbsp;|Voter shares national elections for 10 parties\n",
    "Languages|de/fr/it/rm\n",
    "Religion|Catholic, protestant, other, none\n",
    "Health Insurance|Average health insurance premium adults and children\n",
    "Taxable Income|Average taxable income per capita\n",
    "Unemployment|Unemployment rate\n",
    "Crime Rate|Crimes per inhabitant\n",
    "Spatial Typology|City/periurban/rural, density, central/peripheral (9 different types)\n",
    "Ticket Vending Machines|Geo-locations of SBB ticket vending machines\n",
    "Geo Location|Coordinates, elevation, area\n",
    "Commune Directory | Cantons, regions, mergers "
   ]
  },
  {
   "cell_type": "markdown",
   "metadata": {},
   "source": [
    "### Data Sources\n",
    "\n",
    "**Source**|**Source Name**\n",
    "-----|-----\n",
    "FSO (BFS)|Federal Statistical Office\n",
    "FOPH (BAG)|Federal Office of Public Health\n",
    "FTA (ESTV)|Federal Tax Administration\n",
    "SECO|State Secretariat for Economic Affairs\n",
    "SBB|Swiss Federal Railways"
   ]
  },
  {
   "cell_type": "markdown",
   "metadata": {
    "toc-hr-collapsed": false
   },
   "source": [
    "## In-depth look at political parties in Switzerland"
   ]
  },
  {
   "cell_type": "markdown",
   "metadata": {},
   "source": [
    "In the capstone project I am using the voter shares of political parties in the Swiss federal parliament elections (\"Nationalsratswahlen\") of 2019. The \"regional portraits \" data set contains the election results for each party in each of the 2202 communes. Later on I will introduce a way to aggregate multiple parties' voter shares to a single indicator variable for the political orientation on a left-right scale. But first I will present a summary of the parties profiles. Here, they are ordered by their voter shares on the national level.\n",
    "\n",
    "| Party name (de/fr/it) | Abbrev. (de/fr/it) | Wikipedia Link (de/en)  | Ideology  |   |\n",
    "|---|---|---|---|---|\n",
    "| **Schweizerische Volkspartei** | **SVP** | https://de.wikipedia.org/wiki/Schweizerische_Volkspartei | national-conservative, right-wing populist  |\n",
    "| Union démocratique du centre   | UDC   | https://en.wikipedia.org/wiki/Swiss_People%27s_Party  |\n",
    "| Unione Democratica del Centro   | UDC  |\n",
    "|\n",
    "| **Sozialdemokratische Partei**   | **SP**  | https://de.wikipedia.org/wiki/Sozialdemokratische_Partei_der_Schweiz  | social-democratic, socialist  |\n",
    "| Parti socialiste suisse   | PS  | https://en.wikipedia.org/wiki/Social_Democratic_Party_of_Switzerland  |\n",
    "| Partito socialista svizzero   |  PS |\n",
    "|\n",
    "| **Die Liberalen**   | **FDP**  | https://de.wikipedia.org/wiki/FDP.Die_Liberalen  | liberal, conservative-liberalism  |\n",
    "| Les Libéraux-Radicaux  | PLR  | https://en.wikipedia.org/wiki/FDP.The_Liberals  |\n",
    "| I Liberali  | PLR  |\n",
    "|\n",
    "| **Grüne Partei**  | **GPS**  | https://de.wikipedia.org/wiki/Grüne_Partei_der_Schweiz  | ecological, progressivism  |\n",
    "| Parti écologiste suisse   | PES  | https://en.wikipedia.org/wiki/Green_Party_of_Switzerland  |\n",
    "| Partito ecologista svizzero   | PES  |\n",
    "|\n",
    "| **Christlichdemokratische Volkspartei**  | **CVP**  | https://de.wikipedia.org/wiki/Christlichdemokratische_Volkspartei | christian-democratic, social conservatism  |\n",
    "| Parti démocrate-chrétien   | PDC  | https://en.wikipedia.org/wiki/Christian_Democratic_People%27s_Party_of_Switzerland   |\n",
    "| Partito Popolare Democratico | PPD  |\n",
    "|\n",
    "| **Grünliberale Partei**   | **GLP** | https://de.wikipedia.org/wiki/Grünliberale_Partei  | green liberalism  | \n",
    "| Parti vert’libéral   | PVL | https://en.wikipedia.org/wiki/Green_Liberal_Party_of_Switzerland  |\n",
    "| Partito Verde Liberale  | PVL |\n",
    "|\n",
    "| **Bürgerlich-Demokratische Partei** | **BDP**  | https://de.wikipedia.org/wiki/Bürgerlich-Demokratische_Partei  | fiscal conservatism, civil libertarianism  |   |\n",
    "| Parti bourgeois démocratique | PBD  | https://en.wikipedia.org/wiki/Conservative_Democratic_Party_of_Switzerland  |\n",
    "| Partito borghese democratico | PBD  | \n",
    "|\n",
    "| **Evangelische Volkspartei** | **EVP**  | https://de.wikipedia.org/wiki/Evangelische_Volkspartei  | christian-democratic, social conservatism  |   |\n",
    "| Parti évangelique | PEV  | https://en.wikipedia.org/wiki/Evangelical_People%27s_Party_of_Switzerland  |\n",
    "| Partito Evangelico | PEV  | \n",
    "|\n",
    "| **Partei der Arbeit der Schweiz**   | **PdA**  | https://de.wikipedia.org/wiki/Partei_der_Arbeit_der_Schweiz  | communism, socialism  |   |\n",
    "| Parti Suisse du Travail   | PST  | https://en.wikipedia.org/wiki/Swiss_Party_of_Labour  |\n",
    "| Partito Svizzero del Lavoro   | PSL  | "
   ]
  },
  {
   "cell_type": "markdown",
   "metadata": {},
   "source": [
    "### The left-right political spectrum"
   ]
  },
  {
   "cell_type": "markdown",
   "metadata": {},
   "source": [
    "Assigning political positions on a one-dimensional axis that ranges from left to right is obviously a huge simplification. Still, since it was established around the time of the French Revolution, where in the assembly the royalists were sitting on the right side and the republicans were sitting on the left, it has become ubiquitous in the media and political conversation. Everybody seems to intuitively be able to tell if \"lowering taxes\" or \"allowing more immigration\" are right or left positions. Since this is not a political science seminar, I do not delve deeper into the subject. I assume that it is possible to locate the Swiss political parties on a left-right axis so that their relative positions are consistent with their programs and the perception of the public."
   ]
  },
  {
   "cell_type": "markdown",
   "metadata": {},
   "source": [
    "### Proposed spectrum for the project"
   ]
  },
  {
   "cell_type": "markdown",
   "metadata": {},
   "source": [
    "I will use an axis that uses integral values from -2 (very left) to +2 (very right) and assign the parties like this:\n",
    "\n",
    "| -2 | -1 | 0 | +1 | +2 |\n",
    "|---|---|---|---|---|\n",
    "|GPS|SP |CVP|FDP|SVP|\n",
    "|PdA| -  |GLP|BDP|RW*|\n",
    "| - | -  |EVP| - | - |\n",
    "\n",
    "\\* RW = right-wing parties that are only summarized in the \"regional portraits\" data set. They have a 2% overall vote share.\n",
    "\n",
    "I will name the position of a party on that axis the left-right value (short lr-value) of the party. "
   ]
  },
  {
   "cell_type": "markdown",
   "metadata": {},
   "source": [
    "### Calculation of political orientation value"
   ]
  },
  {
   "cell_type": "markdown",
   "metadata": {},
   "source": [
    "The outcome of an election is measured by the number of votes that each party gets. Then the vote share is calculated as the ratio of the party's votes to all votes. \n",
    "\n",
    "Given an election, I propose to use the weighted (by vote share) average of left-right values of the parties as an indicator of where on the left-right political spectrum an election result as a whole can be assigned. I will name this weighted average the \"political orientation value\" (short po-value).\n",
    "\n",
    "$$\\bar{po} = \\frac{\\sum \\limits _{p \\in P} lr_p \\cdot vs_p}{\\sum \\limits _{p \\in P} vs_p}$$\n",
    "\n",
    "$\\bar{po}$ political orientation value  \n",
    "$P$ set of all parties  \n",
    "$lr_p$ left-right value of party p  \n",
    "$vs_p$ vote share of party p  \n",
    "\n",
    "We have to divide by the sum of all vote shares because they don't usually add up to exactly 100%.\n",
    "\n",
    "The political orientation value can be calculated at various levels, e.g.\n",
    "- for the overall result of the Swiss national parliament elections of 2019\n",
    "- seperately for each of the Swiss communes where people voted in these elections\n",
    "- in analogy, you can also compute the po-value for the parliament itself, using the number of representatives of each party instead of the election vote count\n",
    "- or even for the national government, where each of the 7 members belongs to one of the parties\n",
    "\n",
    "The political orientation value is a meaningful value, it can be used to derive statements like:\n",
    "- in the 2019 national elections, the parliament moved to the left compared to 2015\n",
    "- larger cities tend to be more politcal left than small rural communes\n",
    "- the national government's composition is more to the right than the parliament\n",
    "\n",
    "In the capstone project, I will use the po-values of the Swiss communes as the independent variable and try to predict it using various features of the communes."
   ]
  },
  {
   "cell_type": "markdown",
   "metadata": {},
   "source": [
    "### Political polarization"
   ]
  },
  {
   "cell_type": "markdown",
   "metadata": {},
   "source": [
    "While the po-value as an average gives important information about an electorate or an assembly, it does not convey the complete picture. There is also the aspect of political polarization. Basically that means: in a very polarized environment, most votes go the parties at the extreme ends of the spectrum, while the center parties have a low share of votes. In another, less polarized environment, most votes go to center parties. Still both environments could have similar po-values.\n",
    "\n",
    "To quantify the political polarization, one can use the weighted (by vote share) standard deviation of the left-right values of the parties, using the po-value from above as the weighted mean.\n",
    "\n",
    "$$\\sigma = \\sqrt{\\frac {\\sum \\limits _{p \\in P} (lr_p - \\bar{po})^2 vs_p} {\\sum \\limits _{p \\in P} vs_p}}$$\n",
    "\n",
    "$\\sigma$ weighted standard deviation, represents political polarization  \n",
    "$P$ set of all parties  \n",
    "$lr_p$ left-right value of party p  \n",
    "$\\bar{po}$ weighted mean, represents political orientation  \n",
    "$vs_p$ vote share of party p  \n",
    "\n",
    "Examples:\n",
    "- highly polarized, 50% at +/-2: $\\bar{po}$ = 0, $\\sigma$ = 2\n",
    "- flat, 20% at each lr-value: $\\bar{po}$ = 0, $\\sigma$ = 1.4\n",
    "- centric, 10% at +/-2, 20% at +/-1, 40% at 0: $\\bar{po}$ = 0, $\\sigma$ = 1.1\n",
    "\n",
    "The political polarization is certainly a meaningful value. High polarization is generally not considered to be a good thing for society. Fortunately, in Switzerland (in the 2019 data set we use), mean polarization is 1.3 and 95th percentil is 1.55.\n",
    "\n",
    "The political polarization will not be used in the capstone project, because it is better to concentrate on one thing at a time, and because the above numbers show that polarization is only benign in Switzerland."
   ]
  },
  {
   "cell_type": "markdown",
   "metadata": {
    "toc-hr-collapsed": false
   },
   "source": [
    "## Implementation\n",
    "\n",
    "In the following cells, I will import the data file that contains the voter shares of the 2019 Nationalrat elections for each commune. Then I will compute the political orientation (mean) values and the polarization (standard deviation). I will examine the the distributions of the two variables. Finally, I will check the correlations between parties' vote shares and the po-value to support the soundness of the po-value."
   ]
  },
  {
   "cell_type": "code",
   "execution_count": 1,
   "metadata": {},
   "outputs": [],
   "source": [
    "import pandas as pd\n",
    "import numpy as np\n",
    "import matplotlib.pyplot as plt\n",
    "import seaborn as sns\n",
    "import os\n",
    "import math"
   ]
  },
  {
   "cell_type": "code",
   "execution_count": 2,
   "metadata": {},
   "outputs": [],
   "source": [
    "# read the regional portraits\n",
    "df = pd.read_excel(os.path.join(\"data\", \"source\", \"je-e-21.03.01.xlsx\"), header = 5, skipfooter=21)\n",
    "df.drop(range(0,3), inplace=True) # drop some filler rows between header and data\n",
    "# use easily readable and consistent column names\n",
    "new_cols = ['commune_id', 'name', 'residents', 'population_change',\n",
    "       'population_density', 'foreign_nationals_percent', 'age_0_19',\n",
    "       'age_20_64', 'age_65_over', 'marriage_rate',\n",
    "       'divorce_rate', 'birth_rate', 'mortality_rate',\n",
    "       'households', 'households_size',\n",
    "       'surface_area', 'settlement_urban_area_percent',\n",
    "       'settlement_urban_area_change', 'agricultural_area_percent', 'agricultural_area_change',\n",
    "       'wooded_area_percent', 'unproductive_area_percent', 'employed_total',\n",
    "       'employed_primary_sector', 'employed_secondary_sector', 'employed_tertiary_sector',\n",
    "       'workplaces_total', 'workplaces_primary_sector',\n",
    "       'workplaces_secondary_sector', 'workplaces_tertiary_sector', 'dwelling_vacancy_rate',\n",
    "       'new_housing_rate', 'social_assistance_rate',\n",
    "       'vote_share_fdp', 'vote_share_cvp', 'vote_share_sp', 'vote_share_svp', 'vote_share_evp', 'vote_share_glp', 'vote_share_bdp', 'vote_share_pda',\n",
    "       'vote_share_gps', 'vote_share_rightwing']\n",
    "df.columns = new_cols\n",
    "df.set_index(\"commune_id\", inplace=True)"
   ]
  },
  {
   "cell_type": "code",
   "execution_count": 3,
   "metadata": {},
   "outputs": [],
   "source": [
    "# missing values in voter shares are '*'\n",
    "# we can set them to 0 to ignore them\n",
    "vote_share_cols = [col for col in df.columns if col.startswith(\"vote_share_\")]\n",
    "for col in vote_share_cols:\n",
    "    df[col].replace(to_replace=[\"*\"], value=0, inplace=True)\n",
    "\n",
    "# add a column with the total; this is usually not 100%\n",
    "df[\"vote_share_total\"] = df[vote_share_cols].sum(axis=1)\n",
    "\n",
    "df = df.apply(pd.to_numeric, errors='ignore')"
   ]
  },
  {
   "cell_type": "code",
   "execution_count": 4,
   "metadata": {},
   "outputs": [],
   "source": [
    "# calculate the po-values\n",
    "# same order of parties as in vote_share_cols is important\n",
    "party_lr_dict = {\"fdp\": 1, \"cvp\": 0, \"sp\": -1, \"svp\": 2, \"evp\": 0, \"glp\": 0, \"bdp\": 1, \"pda\": -2, \"gps\": -2, \"rightwing\": 2 }\n",
    "party_lr_array = np.array(list(party_lr_dict.values()))\n",
    "df[\"po_value\"] = np.dot(df[vote_share_cols].values, party_lr_array) / df[\"vote_share_total\"]\n",
    "# there are six small communes that don't have vote results\n",
    "# df[df[\"po_value\"].isna()]\n",
    "df.dropna(subset=[\"po_value\"], inplace=True)"
   ]
  },
  {
   "cell_type": "code",
   "execution_count": 5,
   "metadata": {},
   "outputs": [],
   "source": [
    "# calculate the polarization (standard deviation)\n",
    "# for each party p's vote share \n",
    "# sd = sqrt(sum_all_p((lr_p - po_value)^2 * vote_share_p)/vote_share_total)\n",
    "\n",
    "def calc_vote_sd(row):\n",
    "    sows = 0 # sum of weighted squares\n",
    "    for (lr_p, share_col_p) in zip(party_lr_array, vote_share_cols):\n",
    "        sows = sows + (lr_p - row[\"po_value\"])**2 * row[share_col_p]\n",
    "    return math.sqrt(sows / row[\"vote_share_total\"])\n",
    "\n",
    "df[\"vote_sd\"] = df.apply(calc_vote_sd, axis=1)"
   ]
  },
  {
   "cell_type": "code",
   "execution_count": 6,
   "metadata": {},
   "outputs": [
    {
     "data": {
      "text/html": [
       "<div>\n",
       "<style scoped>\n",
       "    .dataframe tbody tr th:only-of-type {\n",
       "        vertical-align: middle;\n",
       "    }\n",
       "\n",
       "    .dataframe tbody tr th {\n",
       "        vertical-align: top;\n",
       "    }\n",
       "\n",
       "    .dataframe thead th {\n",
       "        text-align: right;\n",
       "    }\n",
       "</style>\n",
       "<table border=\"1\" class=\"dataframe\">\n",
       "  <thead>\n",
       "    <tr style=\"text-align: right;\">\n",
       "      <th></th>\n",
       "      <th>vote_share_fdp</th>\n",
       "      <th>vote_share_cvp</th>\n",
       "      <th>vote_share_sp</th>\n",
       "      <th>vote_share_svp</th>\n",
       "      <th>vote_share_evp</th>\n",
       "      <th>vote_share_glp</th>\n",
       "      <th>vote_share_bdp</th>\n",
       "      <th>vote_share_pda</th>\n",
       "      <th>vote_share_gps</th>\n",
       "      <th>vote_share_rightwing</th>\n",
       "      <th>po_value</th>\n",
       "      <th>vote_sd</th>\n",
       "    </tr>\n",
       "    <tr>\n",
       "      <th>commune_id</th>\n",
       "      <th></th>\n",
       "      <th></th>\n",
       "      <th></th>\n",
       "      <th></th>\n",
       "      <th></th>\n",
       "      <th></th>\n",
       "      <th></th>\n",
       "      <th></th>\n",
       "      <th></th>\n",
       "      <th></th>\n",
       "      <th></th>\n",
       "      <th></th>\n",
       "    </tr>\n",
       "  </thead>\n",
       "  <tbody>\n",
       "    <tr>\n",
       "      <th>1.0</th>\n",
       "      <td>16.421045</td>\n",
       "      <td>2.497974</td>\n",
       "      <td>11.565102</td>\n",
       "      <td>30.380959</td>\n",
       "      <td>3.227470</td>\n",
       "      <td>14.317294</td>\n",
       "      <td>1.263724</td>\n",
       "      <td>0.162110</td>\n",
       "      <td>15.050475</td>\n",
       "      <td>3.820647</td>\n",
       "      <td>0.446755</td>\n",
       "      <td>1.448863</td>\n",
       "    </tr>\n",
       "    <tr>\n",
       "      <th>2.0</th>\n",
       "      <td>13.385437</td>\n",
       "      <td>4.535341</td>\n",
       "      <td>14.645255</td>\n",
       "      <td>30.306920</td>\n",
       "      <td>6.618556</td>\n",
       "      <td>12.666629</td>\n",
       "      <td>2.001445</td>\n",
       "      <td>0.198718</td>\n",
       "      <td>12.590564</td>\n",
       "      <td>1.555518</td>\n",
       "      <td>0.394784</td>\n",
       "      <td>1.400791</td>\n",
       "    </tr>\n",
       "    <tr>\n",
       "      <th>3.0</th>\n",
       "      <td>15.354984</td>\n",
       "      <td>3.867961</td>\n",
       "      <td>16.742891</td>\n",
       "      <td>26.116313</td>\n",
       "      <td>4.194018</td>\n",
       "      <td>16.237935</td>\n",
       "      <td>1.284030</td>\n",
       "      <td>0.176013</td>\n",
       "      <td>12.368531</td>\n",
       "      <td>1.385022</td>\n",
       "      <td>0.305028</td>\n",
       "      <td>1.373906</td>\n",
       "    </tr>\n",
       "  </tbody>\n",
       "</table>\n",
       "</div>"
      ],
      "text/plain": [
       "            vote_share_fdp  vote_share_cvp  vote_share_sp  vote_share_svp  \\\n",
       "commune_id                                                                  \n",
       "1.0              16.421045        2.497974      11.565102       30.380959   \n",
       "2.0              13.385437        4.535341      14.645255       30.306920   \n",
       "3.0              15.354984        3.867961      16.742891       26.116313   \n",
       "\n",
       "            vote_share_evp  vote_share_glp  vote_share_bdp  vote_share_pda  \\\n",
       "commune_id                                                                   \n",
       "1.0               3.227470       14.317294        1.263724        0.162110   \n",
       "2.0               6.618556       12.666629        2.001445        0.198718   \n",
       "3.0               4.194018       16.237935        1.284030        0.176013   \n",
       "\n",
       "            vote_share_gps  vote_share_rightwing  po_value   vote_sd  \n",
       "commune_id                                                            \n",
       "1.0              15.050475              3.820647  0.446755  1.448863  \n",
       "2.0              12.590564              1.555518  0.394784  1.400791  \n",
       "3.0              12.368531              1.385022  0.305028  1.373906  "
      ]
     },
     "execution_count": 6,
     "metadata": {},
     "output_type": "execute_result"
    }
   ],
   "source": [
    "df2 = df[vote_share_cols + [\"po_value\", \"vote_sd\"]]\n",
    "df2.head(3)"
   ]
  },
  {
   "cell_type": "code",
   "execution_count": 7,
   "metadata": {},
   "outputs": [
    {
     "data": {
      "text/html": [
       "<div>\n",
       "<style scoped>\n",
       "    .dataframe tbody tr th:only-of-type {\n",
       "        vertical-align: middle;\n",
       "    }\n",
       "\n",
       "    .dataframe tbody tr th {\n",
       "        vertical-align: top;\n",
       "    }\n",
       "\n",
       "    .dataframe thead th {\n",
       "        text-align: right;\n",
       "    }\n",
       "</style>\n",
       "<table border=\"1\" class=\"dataframe\">\n",
       "  <thead>\n",
       "    <tr style=\"text-align: right;\">\n",
       "      <th></th>\n",
       "      <th>count</th>\n",
       "      <th>mean</th>\n",
       "      <th>std</th>\n",
       "      <th>min</th>\n",
       "      <th>25%</th>\n",
       "      <th>50%</th>\n",
       "      <th>75%</th>\n",
       "      <th>95%</th>\n",
       "      <th>max</th>\n",
       "    </tr>\n",
       "  </thead>\n",
       "  <tbody>\n",
       "    <tr>\n",
       "      <th>po_value</th>\n",
       "      <td>2196.0</td>\n",
       "      <td>0.483413</td>\n",
       "      <td>0.395245</td>\n",
       "      <td>-0.734976</td>\n",
       "      <td>0.214848</td>\n",
       "      <td>0.482292</td>\n",
       "      <td>0.734602</td>\n",
       "      <td>1.160853</td>\n",
       "      <td>1.776557</td>\n",
       "    </tr>\n",
       "    <tr>\n",
       "      <th>vote_sd</th>\n",
       "      <td>2196.0</td>\n",
       "      <td>1.323561</td>\n",
       "      <td>0.167104</td>\n",
       "      <td>0.416553</td>\n",
       "      <td>1.252139</td>\n",
       "      <td>1.345967</td>\n",
       "      <td>1.422807</td>\n",
       "      <td>1.548371</td>\n",
       "      <td>1.774299</td>\n",
       "    </tr>\n",
       "  </tbody>\n",
       "</table>\n",
       "</div>"
      ],
      "text/plain": [
       "           count      mean       std       min       25%       50%       75%  \\\n",
       "po_value  2196.0  0.483413  0.395245 -0.734976  0.214848  0.482292  0.734602   \n",
       "vote_sd   2196.0  1.323561  0.167104  0.416553  1.252139  1.345967  1.422807   \n",
       "\n",
       "               95%       max  \n",
       "po_value  1.160853  1.776557  \n",
       "vote_sd   1.548371  1.774299  "
      ]
     },
     "execution_count": 7,
     "metadata": {},
     "output_type": "execute_result"
    }
   ],
   "source": [
    "df2[[\"po_value\", \"vote_sd\"]].describe(percentiles=[.25, .5, .75, .95]).T"
   ]
  },
  {
   "cell_type": "code",
   "execution_count": 8,
   "metadata": {},
   "outputs": [
    {
     "data": {
      "image/png": "[encoded data removed]",
      "text/plain": [
       "<Figure size 864x288 with 2 Axes>"
      ]
     },
     "metadata": {},
     "output_type": "display_data"
    }
   ],
   "source": [
    "sns.set_style('whitegrid')\n",
    "fig, axs = plt.subplots(1, 2, figsize = (12, 4))\n",
    "sns.distplot(df2[\"po_value\"], kde=False, ax=axs[0]).set_title(\"Political Orientation (communes)\")\n",
    "sns.distplot(df2[\"vote_sd\"], kde=False, ax=axs[1]).set_title(\"Polarization (communes)\")\n",
    "plt.show()"
   ]
  },
  {
   "cell_type": "markdown",
   "metadata": {
    "toc-hr-collapsed": false
   },
   "source": [
    "### po-value"
   ]
  },
  {
   "cell_type": "markdown",
   "metadata": {
    "toc-hr-collapsed": false
   },
   "source": [
    "The po-value of the Swiss communes has a mean of 0.48 and a standard deviation of 0.40. It is almost symmetrical and resembles a normal distribution. That should make it a useful target variable for our models.\n",
    "\n",
    "Please note that it is not to be expected for the mean to be at 0. The data contains one entry for each commune, regardless of its size. That overrepresents small communes, which tend to be more right. Also, there is no need for the political landscape to be neutral at any specific moment in time."
   ]
  },
  {
   "cell_type": "markdown",
   "metadata": {
    "toc-hr-collapsed": true
   },
   "source": [
    "### polarization (std. dev.)"
   ]
  },
  {
   "cell_type": "markdown",
   "metadata": {
    "toc-hr-collapsed": true
   },
   "source": [
    "The mean polarization of Swiss communes is 1.32. That is between the centric and flat examples described above. Only 5% of communes have a polarization above 1.55, which is still almost the flat example.\n",
    "\n",
    "I see this as a good sign for the Swiss political system. And I do not see a reason to discard the po-value as a problematic variable on the grounds that it would for some unclear reason somehow not be usable when the polarization is very high, when such high polarization does not even occur in reality."
   ]
  },
  {
   "cell_type": "markdown",
   "metadata": {
    "toc-hr-collapsed": false
   },
   "source": [
    "### Correlations"
   ]
  },
  {
   "cell_type": "markdown",
   "metadata": {
    "toc-hr-collapsed": false
   },
   "source": [
    "We look at the correlations between parties and the po-value. Correlations between parties can also be interesting to analyze voters' behaviour.\n",
    "\n",
    "Before we look at the numbers, what do we expect? Let us focus on the larger parties, because the impact of the smaller ones (EVP, BDP, PdA, RW) is limited by their small voter share.\n",
    "\n",
    "1. Parties on the extremes (GPS -2, SVP +2): when SVP (GPS) gain votes, these must be at the expense of parties that are less extreme. That means, the po-value moves to the right (SVP) / to the left (GPS). We certainly expect strong correlations, positive (SVP) or negative (GPS).\n",
    "\n",
    "2. For not-extreme parties, it's actually more complicated. When such parties gain votes, at the expense of which other parties is it? Is it more from the center/the other side? Then the correlation to the po-value will have the same sign as their lr-value. This seems intuitive. But the other case is possible as well. A party can gain at the expense mostly of another more extreme party on the same side of the spectrum. Then the correlation has the opposite sign as their lr-value. That is not intuitive, but it is completely possible."
   ]
  },
  {
   "cell_type": "code",
   "execution_count": 9,
   "metadata": {},
   "outputs": [
    {
     "data": {
      "image/png": "[encoded data removed]",
      "text/plain": [
       "<Figure size 864x720 with 2 Axes>"
      ]
     },
     "metadata": {},
     "output_type": "display_data"
    }
   ],
   "source": [
    "plt.figure(figsize = (12,10))\n",
    "corr = df2.drop(columns=[\"vote_sd\"]).corr()\n",
    "sns.heatmap(corr, annot = True, fmt = '.2f',\n",
    "            square=True, vmin = -1, vmax = 1, cmap= 'coolwarm', mask = np.triu(corr), annot_kws = {\"fontsize\":\"small\"});"
   ]
  },
  {
   "cell_type": "markdown",
   "metadata": {
    "toc-hr-collapsed": false
   },
   "source": [
    "### Interpretation"
   ]
  },
  {
   "cell_type": "markdown",
   "metadata": {},
   "source": [
    "When we look at po-value / party correlations: What do we see and how does it fit the expectations from above?\n",
    "\n",
    "1. Indeed the two extreme political parties SVP and GPS have strong correlations with the po-value, and the sign is the same as their lr-value (SVP +0.86, GPS -0.76).\n",
    "\n",
    "2. a) For SP, the correlation is -0.65, which is the intuitive case. It seems SP can gain votes mostly from parties to its right. If you look at the SP/GPS correlation, you see that SP gains do generally come with GPS gains as well!\n",
    "\n",
    "2. b) On the right side, things are different. FDP has only weak correlation -0.25 with the po-value and the sign is, unintuitively, negative. Our theory was that this is possible when FDP gains come at the expense of SVP losses. If you look at the FDP/SVP correlation of -0.46, you see that this is true. Negative correlations of FDP with parties to the left of it are weaker or non-existent.\n",
    "\n",
    "2. c) CVP and GLP in the center are uncorrelated (-0.10) with the po-value. That suggests that their gains occur in a left-right balanced way. Indeed they have no significant correlations with other parties except amongst themselves (-0.50), which is left-right-neutral."
   ]
  },
  {
   "cell_type": "markdown",
   "metadata": {
    "toc-hr-collapsed": false
   },
   "source": [
    "### Summary"
   ]
  },
  {
   "cell_type": "markdown",
   "metadata": {},
   "source": [
    "The correlation analysis supports the usefulness of the po-value variable after you take into account the fact that voter movements are not uniform. An interesting insight about the different (non-symmetrical) properties of SP and FDP vote shares."
   ]
  }
 ],
 "metadata": {
  "kernelspec": {
   "display_name": "Python 3",
   "language": "python",
   "name": "python3"
  },
  "language_info": {
   "codemirror_mode": {
    "name": "ipython",
    "version": 3
   },
   "file_extension": ".py",
   "mimetype": "text/x-python",
   "name": "python",
   "nbconvert_exporter": "python",
   "pygments_lexer": "ipython3",
   "version": "3.6.10"
  }
 },
 "nbformat": 4,
 "nbformat_minor": 4
}
