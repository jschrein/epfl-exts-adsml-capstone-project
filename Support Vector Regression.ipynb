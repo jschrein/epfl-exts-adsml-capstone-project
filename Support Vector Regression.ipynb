{
 "cells": [
  {
   "cell_type": "code",
   "execution_count": 1,
   "metadata": {},
   "outputs": [],
   "source": [
    "import pandas as pd\n",
    "import numpy as np\n",
    "import os\n",
    "import matplotlib.pyplot as plt\n",
    "import seaborn as sns\n",
    "\n",
    "from sklearn.model_selection import train_test_split, GridSearchCV, validation_curve\n",
    "from sklearn.compose import make_column_transformer\n",
    "from sklearn.pipeline import Pipeline, make_pipeline\n",
    "from sklearn.preprocessing import StandardScaler, PowerTransformer, OneHotEncoder\n",
    "from sklearn.svm import SVR\n",
    "from sklearn.metrics import mean_absolute_error, r2_score\n",
    "\n",
    "from features import categorical_features, skewed_features, unskewed_features, cols_idxs\n",
    "from scores import save_score"
   ]
  },
  {
   "cell_type": "markdown",
   "metadata": {},
   "source": [
    "# Support Vector Regression"
   ]
  },
  {
   "cell_type": "code",
   "execution_count": 2,
   "metadata": {},
   "outputs": [],
   "source": [
    "df = pd.read_csv(os.path.join(\"data\", \"processed\", \"all_data2.csv\"))\n",
    "df.set_index(\"commune_id\", inplace=True)\n",
    "df.drop(columns=[\"name\"], inplace=True)\n",
    "vote_share_cols = [col for col in df.columns if col.startswith(\"vote_share_\")]\n",
    "df.drop(columns=vote_share_cols, inplace=True)"
   ]
  },
  {
   "cell_type": "code",
   "execution_count": 3,
   "metadata": {},
   "outputs": [],
   "source": [
    "# Work around PowerTransformer bug: https://github.com/scikit-learn/scikit-learn/issues/14959\n",
    "df[\"per_capita_tax_income\"] = StandardScaler(with_std=False).fit_transform(df[\"per_capita_tax_income\"].values.reshape(-1, 1))"
   ]
  },
  {
   "cell_type": "code",
   "execution_count": 4,
   "metadata": {},
   "outputs": [
    {
     "name": "stdout",
     "output_type": "stream",
     "text": [
      "X_train.shape = (1756, 54)\n",
      "y_train.shape = (1756,)\n",
      "X_test.shape = (440, 54)\n",
      "y_test.shape = (440,)\n"
     ]
    }
   ],
   "source": [
    "df_typo = df[\"typology\"] # needed for stratification below\n",
    "\n",
    "df_train, df_test = train_test_split(df, test_size=0.2, random_state=0, stratify=df_typo)\n",
    "X_train = df_train.drop(columns=\"po_value\").values\n",
    "y_train = df_train[\"po_value\"].values\n",
    "X_test = df_test.drop(columns=\"po_value\").values\n",
    "y_test = df_test[\"po_value\"].values\n",
    "\n",
    "print(\"X_train.shape = {}\".format(X_train.shape))\n",
    "print(\"y_train.shape = {}\".format(y_train.shape))\n",
    "print(\"X_test.shape = {}\".format(X_test.shape))\n",
    "print(\"y_test.shape = {}\".format(y_test.shape))\n",
    "\n",
    "categorical_idxs = cols_idxs(df_train.drop(columns=\"po_value\"), categorical_features)\n",
    "skewed_idxs = cols_idxs(df_train.drop(columns=\"po_value\"), skewed_features)\n",
    "unskewed_idxs = cols_idxs(df_train.drop(columns=\"po_value\"), unskewed_features)"
   ]
  },
  {
   "cell_type": "markdown",
   "metadata": {},
   "source": [
    "## RBF Kernel"
   ]
  },
  {
   "cell_type": "code",
   "execution_count": 5,
   "metadata": {},
   "outputs": [
    {
     "name": "stdout",
     "output_type": "stream",
     "text": [
      "With default params:\n",
      "SVR (rbf) MAE = 0.155\n",
      "SVR (rbf) R^2 = 0.727\n"
     ]
    }
   ],
   "source": [
    "preprocessor = make_column_transformer(\n",
    "    (OneHotEncoder(dtype=np.float64), categorical_idxs),\n",
    "    (PowerTransformer(standardize=True), skewed_idxs),\n",
    "    (StandardScaler(), skewed_idxs + unskewed_idxs),\n",
    "    remainder = \"passthrough\"\n",
    ")\n",
    "\n",
    "svr_rbf = make_pipeline(preprocessor, SVR(kernel=\"rbf\"))\n",
    "svr_rbf.fit(X_train, y_train)\n",
    "svr_rbf_test_pred = svr_rbf.predict(X_test)\n",
    "print(\"With default params:\")\n",
    "print(\"SVR (rbf) MAE = {:.3f}\".format(mean_absolute_error(y_test, svr_rbf_test_pred)))\n",
    "print(\"SVR (rbf) R^2 = {:.3f}\".format(svr_rbf.score(X_test, y_test)))"
   ]
  },
  {
   "cell_type": "code",
   "execution_count": 6,
   "metadata": {},
   "outputs": [
    {
     "name": "stdout",
     "output_type": "stream",
     "text": [
      "Grid search / cross-validation:\n",
      "Best params = {'svr__C': 21.54434690031882, 'svr__gamma': 0.001}\n",
      "Best MAE = 0.158\n"
     ]
    }
   ],
   "source": [
    "parameters = {\n",
    "    \"svr__C\": np.logspace(-5, 5, 31),\n",
    "    \"svr__gamma\": np.logspace(-10, 0, 11)\n",
    "}\n",
    "gcv_rbf = GridSearchCV(svr_rbf, parameters, scoring = \"neg_mean_absolute_error\", cv = 5, n_jobs=12)\n",
    "gcv_rbf.fit(X_train, y_train)\n",
    "print(\"Grid search / cross-validation:\")\n",
    "print(\"Best params = {}\".format(gcv_rbf.best_params_)) # {'svr__C': 21.54434690031882, 'svr__gamma': 0.001}\n",
    "print(\"Best MAE = {:.3f}\".format(-gcv_rbf.best_score_)) #  0.1630.158"
   ]
  },
  {
   "cell_type": "code",
   "execution_count": 7,
   "metadata": {},
   "outputs": [
    {
     "name": "stdout",
     "output_type": "stream",
     "text": [
      "On test data:\n",
      "Tuned SVR (rbf) MAE = 0.147\n",
      "Tuned SVR (rbf) R^2 = 0.764\n"
     ]
    }
   ],
   "source": [
    "gcv_rbf_test_pred = gcv_rbf.predict(X_test)\n",
    "gcv_rbf_test_mae = mean_absolute_error(y_test, gcv_rbf_test_pred)\n",
    "gcv_rbf_test_r2 = r2_score(y_test, gcv_rbf_test_pred)\n",
    "print(\"On test data:\")\n",
    "print(\"Tuned SVR (rbf) MAE = {:.3f}\".format(gcv_rbf_test_mae))\n",
    "print(\"Tuned SVR (rbf) R^2 = {:.3f}\".format(gcv_rbf_test_r2))\n",
    "save_score(\"svr_rbf\", gcv_rbf_test_mae, gcv_rbf_test_r2, os.path.join(\"data\",\"results\", \"model_scores.csv\"))"
   ]
  },
  {
   "cell_type": "code",
   "execution_count": 8,
   "metadata": {},
   "outputs": [],
   "source": [
    "sns.set_style('whitegrid')\n",
    "def validationcurve_plot(name, param_range, train_scores, valid_scores, ax):\n",
    "    \"\"\"Plots a validation curve and marks the best test score.\"\"\"\n",
    "    train_scores_mean = np.mean(train_scores, axis=1)\n",
    "    train_scores_std = np.std(train_scores, axis=1)\n",
    "    valid_scores_mean = np.mean(valid_scores, axis=1)\n",
    "    valid_scores_std = np.std(valid_scores, axis=1)\n",
    "\n",
    "    sns.lineplot(param_range, train_scores_mean, label=\"train\", ax=ax)\n",
    "    ax.set_xscale('log')\n",
    "    ax.fill_between(param_range, train_scores_mean - train_scores_std, train_scores_mean + train_scores_std, alpha=0.2)\n",
    "    sns.lineplot(param_range, valid_scores_mean, label=\"validation\", ax=ax)\n",
    "    ax.set_xscale('log')\n",
    "    ax.fill_between(param_range, valid_scores_mean - valid_scores_std, valid_scores_mean + valid_scores_std, alpha=0.2)\n",
    "    ax.set_title(\"Validation curve for \" + name)\n",
    "\n",
    "    best_idx = valid_scores_mean.argmin()\n",
    "    ax.scatter(param_range[best_idx], valid_scores_mean[best_idx], marker='x', c='red', zorder=10, label=\"best\")\n",
    "\n",
    "    ax.legend()"
   ]
  },
  {
   "cell_type": "code",
   "execution_count": 9,
   "metadata": {},
   "outputs": [],
   "source": [
    "svr_rbf_2 = make_pipeline(preprocessor, SVR(kernel=\"rbf\", gamma=gcv_rbf.best_params_[\"svr__gamma\"]))\n",
    "param_range = np.logspace(-5, 5, 31)\n",
    "train_scores, valid_scores = validation_curve(svr_rbf_2, X_train, y_train, param_name=\"svr__C\",\n",
    "                                              scoring = \"neg_mean_absolute_error\", param_range=param_range,\n",
    "                                              cv=5, n_jobs=12)"
   ]
  },
  {
   "cell_type": "code",
   "execution_count": 10,
   "metadata": {},
   "outputs": [
    {
     "data": {
      "image/png": "[encoded data removed]",
      "text/plain": [
       "<Figure size 900x360 with 2 Axes>"
      ]
     },
     "metadata": {},
     "output_type": "display_data"
    }
   ],
   "source": [
    "fig, (ax1, ax2) = plt.subplots(1, 2, figsize=(12.5, 5))\n",
    "\n",
    "validationcurve_plot(\"SVR (rbf)\", param_range, -train_scores, -valid_scores, ax1)\n",
    "ax1.set_xlabel(\"C\")\n",
    "ax1.set_ylabel(\"MAE\")\n",
    "sns.scatterplot(y_test, svr_rbf_test_pred, s=10, ax=ax2)\n",
    "ax2.set_xlabel(\"real po\")\n",
    "ax2.set_ylabel(\"predicted po\")\n",
    "ax2.set_title(\"Real vs. predicted po (test set)\")\n",
    "ax2.plot([-1, 2], [-1, 2], color=\"red\", linestyle=\":\")\n",
    "plt.show()"
   ]
  },
  {
   "cell_type": "markdown",
   "metadata": {},
   "source": [
    "## Polynomial Kernel"
   ]
  },
  {
   "cell_type": "code",
   "execution_count": 11,
   "metadata": {},
   "outputs": [
    {
     "name": "stdout",
     "output_type": "stream",
     "text": [
      "With default params:\n",
      "SVR (poly, deg=2) MAE = 0.162\n",
      "SVR (poly, deg=2) R^2 = 0.704\n"
     ]
    }
   ],
   "source": [
    "preprocessor = make_column_transformer(\n",
    "    (OneHotEncoder(dtype=np.float64), categorical_idxs),\n",
    "    (PowerTransformer(standardize=True), skewed_idxs),\n",
    "    (StandardScaler(), skewed_idxs + unskewed_idxs),\n",
    "    remainder = \"passthrough\"\n",
    ")\n",
    "\n",
    "svr_poly = make_pipeline(preprocessor, SVR(kernel=\"poly\", degree=2))\n",
    "svr_poly.fit(X_train, y_train)\n",
    "svr_poly_test_pred = svr_poly.predict(X_test)\n",
    "print(\"With default params:\")\n",
    "print(\"SVR (poly, deg=2) MAE = {:.3f}\".format(mean_absolute_error(y_test, svr_poly_test_pred)))\n",
    "print(\"SVR (poly, deg=2) R^2 = {:.3f}\".format(r2_score(y_test, svr_poly_test_pred)))"
   ]
  },
  {
   "cell_type": "code",
   "execution_count": 12,
   "metadata": {},
   "outputs": [
    {
     "name": "stdout",
     "output_type": "stream",
     "text": [
      "Fitting 5 folds for each of 198 candidates, totalling 990 fits\n"
     ]
    },
    {
     "name": "stderr",
     "output_type": "stream",
     "text": [
      "[Parallel(n_jobs=12)]: Using backend LokyBackend with 12 concurrent workers.\n",
      "[Parallel(n_jobs=12)]: Done  26 tasks      | elapsed:    1.2s\n",
      "[Parallel(n_jobs=12)]: Done 176 tasks      | elapsed:    6.6s\n",
      "[Parallel(n_jobs=12)]: Done 426 tasks      | elapsed:   16.1s\n",
      "[Parallel(n_jobs=12)]: Done 776 tasks      | elapsed:   46.0s\n",
      "[Parallel(n_jobs=12)]: Done 990 out of 990 | elapsed: 52.3min finished\n"
     ]
    },
    {
     "name": "stdout",
     "output_type": "stream",
     "text": [
      "Grid search / cross-validation:\n",
      "Best params = {'svr__C': 1000.0, 'svr__degree': 1, 'svr__gamma': 0.01}\n",
      "Best MAE (poly)= 0.166\n"
     ]
    }
   ],
   "source": [
    "parameters = {\n",
    "    \"svr__degree\": [1, 2],\n",
    "    \"svr__C\": np.logspace(-5, 3, 9), # fit is not terminating for C > 3\n",
    "    \"svr__gamma\": np.logspace(-10, 0, 11)\n",
    "}\n",
    "gcv_poly = GridSearchCV(svr_poly, parameters, scoring = \"neg_mean_absolute_error\", cv = 5, n_jobs=12, verbose=True)\n",
    "gcv_poly.fit(X_train, y_train)\n",
    "print(\"Grid search / cross-validation:\")\n",
    "print(\"Best params = {}\".format(gcv_poly.best_params_)) # \n",
    "print(\"Best MAE (poly)= {:.3f}\".format(-gcv_poly.best_score_)) #  "
   ]
  },
  {
   "cell_type": "code",
   "execution_count": 13,
   "metadata": {},
   "outputs": [
    {
     "name": "stdout",
     "output_type": "stream",
     "text": [
      "On test data:\n",
      "Tuned SVR (poly) MAE = 0.151\n",
      "Tuned SVR (poly) R^2 = 0.753\n"
     ]
    }
   ],
   "source": [
    "gcv_poly_test_pred = gcv_poly.predict(X_test)\n",
    "gcv_poly_test_mae = mean_absolute_error(y_test, gcv_poly_test_pred)\n",
    "gcv_poly_test_r2 = r2_score(y_test, gcv_poly_test_pred)\n",
    "print(\"On test data:\")\n",
    "print(\"Tuned SVR (poly) MAE = {:.3f}\".format(gcv_poly_test_mae))\n",
    "print(\"Tuned SVR (poly) R^2 = {:.3f}\".format(gcv_poly_test_r2))\n",
    "save_score(\"svr_poly\", gcv_poly_test_mae, gcv_poly_test_r2, os.path.join(\"data\",\"results\", \"model_scores.csv\"))"
   ]
  },
  {
   "cell_type": "code",
   "execution_count": null,
   "metadata": {},
   "outputs": [],
   "source": []
  }
 ],
 "metadata": {
  "kernelspec": {
   "display_name": "Python 3",
   "language": "python",
   "name": "python3"
  },
  "language_info": {
   "codemirror_mode": {
    "name": "ipython",
    "version": 3
   },
   "file_extension": ".py",
   "mimetype": "text/x-python",
   "name": "python",
   "nbconvert_exporter": "python",
   "pygments_lexer": "ipython3",
   "version": "3.6.10"
  }
 },
 "nbformat": 4,
 "nbformat_minor": 4
}
