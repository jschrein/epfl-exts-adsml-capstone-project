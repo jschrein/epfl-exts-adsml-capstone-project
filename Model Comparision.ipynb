{
 "cells": [
  {
   "cell_type": "code",
   "execution_count": 1,
   "metadata": {},
   "outputs": [],
   "source": [
    "import pandas as pd\n",
    "import numpy as np\n",
    "import os\n",
    "import matplotlib.pyplot as plt\n",
    "import seaborn as sns"
   ]
  },
  {
   "cell_type": "code",
   "execution_count": 2,
   "metadata": {},
   "outputs": [],
   "source": [
    "df_scores = pd.read_csv(os.path.join(\"data\",\"results\", \"model_scores.csv\"))"
   ]
  },
  {
   "cell_type": "code",
   "execution_count": 3,
   "metadata": {},
   "outputs": [
    {
     "data": {
      "image/png": "[encoded data removed]",
      "text/plain": [
       "<Figure size 900x360 with 2 Axes>"
      ]
     },
     "metadata": {},
     "output_type": "display_data"
    }
   ],
   "source": [
    "sns.set_style('whitegrid')\n",
    "\n",
    "fig, (ax1, ax2) = plt.subplots(1, 2, figsize=(12.5, 5))\n",
    "\n",
    "sns.barplot(data=df_scores, x=\"model\", y=\"mae\", ax=ax1)\n",
    "ax1.set(ylim=(0, 0.35))\n",
    "ax1.set_title(\"Mean average error (MAE) of models\")\n",
    "ax1.set_xlabel(\"Model\")\n",
    "ax1.set_ylabel(\"MAE\")\n",
    "for p in ax1.patches:\n",
    "    ax1.annotate(\"{:.3f}\".format(p.get_height()), (p.get_x() + p.get_width() / 2., p.get_height()),\n",
    "            ha='center', va='center', xytext=(0, 10), textcoords='offset points')\n",
    "\n",
    "sns.barplot(data=df_scores[df_scores[\"model\"] != \"meanx\"], x=\"model\", y=\"r2\", palette=\"tab10\", ax=ax2)\n",
    "ax2.set(ylim=(0, 1))\n",
    "for p in ax2.patches:\n",
    "    ax2.annotate(\"{:.3f}\".format(p.get_height()), (p.get_x() + p.get_width() / 2., p.get_height()),\n",
    "            ha='center', va='center', xytext=(0, 10), textcoords='offset points')\n",
    "ax2.set_title(\"Coefficient of determination ($R^2$) of models\")\n",
    "ax2.set_xlabel(\"Model\")\n",
    "ax2.set_ylabel(\"$R^2$\")\n",
    "\n",
    "plt.show()"
   ]
  },
  {
   "cell_type": "code",
   "execution_count": 4,
   "metadata": {},
   "outputs": [
    {
     "data": {
      "text/html": [
       "<div>\n",
       "<style scoped>\n",
       "    .dataframe tbody tr th:only-of-type {\n",
       "        vertical-align: middle;\n",
       "    }\n",
       "\n",
       "    .dataframe tbody tr th {\n",
       "        vertical-align: top;\n",
       "    }\n",
       "\n",
       "    .dataframe thead th {\n",
       "        text-align: right;\n",
       "    }\n",
       "</style>\n",
       "<table border=\"1\" class=\"dataframe\">\n",
       "  <thead>\n",
       "    <tr style=\"text-align: right;\">\n",
       "      <th></th>\n",
       "      <th>model</th>\n",
       "      <th>mae</th>\n",
       "      <th>r2</th>\n",
       "    </tr>\n",
       "  </thead>\n",
       "  <tbody>\n",
       "    <tr>\n",
       "      <th>0</th>\n",
       "      <td>mean</td>\n",
       "      <td>0.314696</td>\n",
       "      <td>0.000000</td>\n",
       "    </tr>\n",
       "    <tr>\n",
       "      <th>1</th>\n",
       "      <td>ridge</td>\n",
       "      <td>0.153340</td>\n",
       "      <td>0.748603</td>\n",
       "    </tr>\n",
       "    <tr>\n",
       "      <th>2</th>\n",
       "      <td>ridge_red</td>\n",
       "      <td>0.158492</td>\n",
       "      <td>0.728389</td>\n",
       "    </tr>\n",
       "    <tr>\n",
       "      <th>3</th>\n",
       "      <td>gtbr</td>\n",
       "      <td>0.153404</td>\n",
       "      <td>0.750193</td>\n",
       "    </tr>\n",
       "    <tr>\n",
       "      <th>4</th>\n",
       "      <td>gtbr_red</td>\n",
       "      <td>0.160295</td>\n",
       "      <td>0.735388</td>\n",
       "    </tr>\n",
       "    <tr>\n",
       "      <th>5</th>\n",
       "      <td>svr_rbf</td>\n",
       "      <td>0.147120</td>\n",
       "      <td>0.763924</td>\n",
       "    </tr>\n",
       "    <tr>\n",
       "      <th>6</th>\n",
       "      <td>svr_poly</td>\n",
       "      <td>0.151080</td>\n",
       "      <td>0.753130</td>\n",
       "    </tr>\n",
       "    <tr>\n",
       "      <th>7</th>\n",
       "      <td>svr_red</td>\n",
       "      <td>0.157755</td>\n",
       "      <td>0.735738</td>\n",
       "    </tr>\n",
       "  </tbody>\n",
       "</table>\n",
       "</div>"
      ],
      "text/plain": [
       "       model       mae        r2\n",
       "0       mean  0.314696  0.000000\n",
       "1      ridge  0.153340  0.748603\n",
       "2  ridge_red  0.158492  0.728389\n",
       "3       gtbr  0.153404  0.750193\n",
       "4   gtbr_red  0.160295  0.735388\n",
       "5    svr_rbf  0.147120  0.763924\n",
       "6   svr_poly  0.151080  0.753130\n",
       "7    svr_red  0.157755  0.735738"
      ]
     },
     "execution_count": 4,
     "metadata": {},
     "output_type": "execute_result"
    }
   ],
   "source": [
    "df_scores"
   ]
  }
 ],
 "metadata": {
  "kernelspec": {
   "display_name": "Python 3",
   "language": "python",
   "name": "python3"
  },
  "language_info": {
   "codemirror_mode": {
    "name": "ipython",
    "version": 3
   },
   "file_extension": ".py",
   "mimetype": "text/x-python",
   "name": "python",
   "nbconvert_exporter": "python",
   "pygments_lexer": "ipython3",
   "version": "3.6.10"
  }
 },
 "nbformat": 4,
 "nbformat_minor": 4
}
